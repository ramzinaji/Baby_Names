{
 "cells": [
  {
   "cell_type": "code",
   "execution_count": null,
   "metadata": {},
   "outputs": [],
   "source": [
    "# Visualization 2: Is there a regional effect in the data? Are some names more popular in some regions? Are popular names generally popular across the whole country?"
   ]
  },
  {
   "cell_type": "code",
   "execution_count": 16,
   "metadata": {},
   "outputs": [],
   "source": [
    "import pandas as pd\n",
    "import altair as alt\n",
    "import json\n",
    "import ipywidgets as widgets\n",
    "from IPython.display import display, clear_output\n",
    "from IPython.display import HTML"
   ]
  },
  {
   "cell_type": "code",
   "execution_count": 12,
   "metadata": {},
   "outputs": [],
   "source": [
    "# Chargement des données\n",
    "df = pd.read_csv('dpt2020.csv', sep=';')\n",
    "df = df[df['preusuel'] != '_PRENOMS_RARES']\n",
    "df = df[df['annais'] != 'XXXX']\n",
    "df['annais'] = df['annais'].astype(int)\n",
    "\n",
    "# Chargement du GeoJSON\n",
    "with open(\"departements.geojson\", \"r\", encoding=\"utf-8\") as f:\n",
    "    geojson = json.load(f)\n",
    "\n",
    "departements_geo = alt.Data(\n",
    "    values=geojson['features'],\n",
    "    format={'type': 'json', 'property': 'features'}\n",
    ")"
   ]
  },
  {
   "cell_type": "code",
   "execution_count": null,
   "metadata": {},
   "outputs": [
    {
     "data": {
      "application/vnd.jupyter.widget-view+json": {
       "model_id": "209bea7bf3574b368ee33ea731083c37",
       "version_major": 2,
       "version_minor": 0
      },
      "text/plain": [
       "interactive(children=(IntSlider(value=2020, description='year', max=2020, min=1900), Output()), _dom_classes=(…"
      ]
     },
     "metadata": {},
     "output_type": "display_data"
    },
    {
     "data": {
      "text/plain": [
       "<function __main__.afficher_carte(year)>"
      ]
     },
     "execution_count": 20,
     "metadata": {},
     "output_type": "execute_result"
    }
   ],
   "source": [
    "import pandas as pd\n",
    "import altair as alt\n",
    "import ipywidgets as widgets\n",
    "from IPython.display import display\n",
    "import json\n",
    "\n",
    "# Chargement des données\n",
    "df = pd.read_csv('dpt2020.csv', sep=';')\n",
    "df = df[df['preusuel'] != '_PRENOMS_RARES']\n",
    "df = df[df['annais'] != 'XXXX']\n",
    "df['annais'] = df['annais'].astype(int)\n",
    "\n",
    "# Slider\n",
    "annee_min = df['annais'].min()\n",
    "annee_max = df['annais'].max()\n",
    "\n",
    "def afficher_carte(year):\n",
    "    dominants = (\n",
    "        df[df['annais'] == year]\n",
    "        .groupby(['dpt', 'preusuel'])['nombre']\n",
    "        .sum()\n",
    "        .reset_index()\n",
    "        .sort_values('nombre', ascending=False)\n",
    "        .drop_duplicates('dpt')\n",
    "    )\n",
    "\n",
    "    geo_data = alt.Data(url='departements.geojson', format={'type': 'json', 'property': 'features'})\n",
    "\n",
    "    chart = alt.Chart(geo_data).mark_geoshape(\n",
    "        stroke='lightgray'\n",
    "    ).transform_lookup(\n",
    "        lookup='properties.code',\n",
    "        from_=alt.LookupData(dominants, 'dpt', ['preusuel', 'nombre'])\n",
    "    ).encode(\n",
    "        color=alt.Color('preusuel:N', title='Prénom dominant'),\n",
    "        tooltip=[\n",
    "            alt.Tooltip('properties.nom:N', title='Département'),\n",
    "            alt.Tooltip('preusuel:N', title='Prénom'),\n",
    "            alt.Tooltip('nombre:Q', title='Nombre')\n",
    "        ]\n",
    "    ).project('mercator').properties(\n",
    "        width=700,\n",
    "        height=600,\n",
    "        title=f'Prénom dominant par département en {year}'\n",
    "    )\n",
    "\n",
    "    return chart\n",
    "\n",
    "widgets.interact(afficher_carte, year=widgets.IntSlider(value=2020, min=annee_min, max=annee_max, step=1))\n"
   ]
  }
 ],
 "metadata": {
  "kernelspec": {
   "display_name": "Python 3",
   "language": "python",
   "name": "python3"
  },
  "language_info": {
   "codemirror_mode": {
    "name": "ipython",
    "version": 3
   },
   "file_extension": ".py",
   "mimetype": "text/x-python",
   "name": "python",
   "nbconvert_exporter": "python",
   "pygments_lexer": "ipython3",
   "version": "3.11.5"
  }
 },
 "nbformat": 4,
 "nbformat_minor": 2
}
